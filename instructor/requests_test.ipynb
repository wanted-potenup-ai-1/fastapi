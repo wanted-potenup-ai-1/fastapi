{
 "cells": [
  {
   "cell_type": "markdown",
   "metadata": {},
   "source": [
    "# Basic"
   ]
  },
  {
   "cell_type": "code",
   "execution_count": 20,
   "metadata": {},
   "outputs": [
    {
     "data": {
      "text/plain": [
       "[{'id': 1, 'name': 'Laptop', 'category': 'Electronics', 'price': 1500},\n",
       " {'id': 2, 'name': 'Smartphone', 'category': 'Electronics', 'price': 800}]"
      ]
     },
     "execution_count": 20,
     "metadata": {},
     "output_type": "execute_result"
    }
   ],
   "source": [
    "# sample.json\n",
    "[\n",
    "    {\n",
    "        \"id\": 1,\n",
    "        \"name\": \"Laptop\",\n",
    "        \"category\": \"Electronics\",\n",
    "        \"price\": 1500\n",
    "    },\n",
    "    {\n",
    "        \"id\": 2,\n",
    "        \"name\": \"Smartphone\",\n",
    "        \"category\": \"Electronics\",\n",
    "        \"price\": 800\n",
    "    }\n",
    "]"
   ]
  },
  {
   "cell_type": "code",
   "execution_count": 21,
   "metadata": {},
   "outputs": [],
   "source": [
    "FASTAPI_API_URL = \"http://localhost:8000\""
   ]
  },
  {
   "cell_type": "markdown",
   "metadata": {},
   "source": [
    "## GET /items/all"
   ]
  },
  {
   "cell_type": "code",
   "execution_count": 22,
   "metadata": {},
   "outputs": [
    {
     "name": "stdout",
     "output_type": "stream",
     "text": [
      "[{'id': 1, 'name': 'Laptop', 'category': 'Electronics', 'price': 1500}, {'id': 2, 'name': 'Smartphone', 'category': 'Electronics', 'price': 800}, {'id': 3, 'name': 'Desk Chair', 'category': 'Furniture', 'price': 200}, {'id': 4, 'name': 'Desk Chair', 'category': 'Furniture', 'price': 200.0}, {'id': 5, 'name': 'Desk Chair', 'category': 'Furniture', 'price': 200.0}, {'id': 6, 'name': 'string', 'category': 'string', 'price': 0.0}, {'id': 7, 'name': 'Desk Chair', 'category': 'Furniture', 'price': 200.0}, {'id': 8, 'name': 'Desk Chair', 'category': 'Furniture', 'price': 200.0}]\n"
     ]
    }
   ],
   "source": [
    "# GET /items\n",
    "import requests \n",
    "\n",
    "api_url = FASTAPI_API_URL + \"/items/all\"\n",
    "response = requests.get(api_url)\n",
    "\n",
    "if response.status_code == 200:\n",
    "\tresponse_dict = response.json()\n",
    "\tprint(response_dict[\"result\"])"
   ]
  },
  {
   "cell_type": "markdown",
   "metadata": {},
   "source": [
    "## GET /query?category={category}"
   ]
  },
  {
   "cell_type": "code",
   "execution_count": 23,
   "metadata": {},
   "outputs": [
    {
     "name": "stdout",
     "output_type": "stream",
     "text": [
      "{'status': 'success', 'count': 2, 'result': [{'id': 1, 'name': 'Laptop', 'category': 'Electronics', 'price': 1500}, {'id': 2, 'name': 'Smartphone', 'category': 'Electronics', 'price': 800}]}\n"
     ]
    }
   ],
   "source": [
    "# GET /items\n",
    "import requests \n",
    "\n",
    "category = \"Electronics\"\n",
    "api_url = FASTAPI_API_URL + \"/items/query\"\n",
    "params = {\"category\": category}\n",
    "response = requests.get(api_url, params=params)\n",
    "\n",
    "if response.status_code == 200:\n",
    "\tresponse_dict = response.json()\n",
    "\tprint(response_dict)\n",
    "else:\n",
    "\tprint(response.status_code)\n",
    "\tprint(response.text)"
   ]
  },
  {
   "cell_type": "markdown",
   "metadata": {},
   "source": [
    "## GET /items/{item_id}"
   ]
  },
  {
   "cell_type": "code",
   "execution_count": 24,
   "metadata": {},
   "outputs": [
    {
     "name": "stdout",
     "output_type": "stream",
     "text": [
      "404\n",
      "{\"detail\":\"item_id에 해당하는 데이터가 없습니다.\"}\n"
     ]
    }
   ],
   "source": [
    "# GET /items/{item_id}\n",
    "import requests \n",
    "\n",
    "item_id = 10\n",
    "api_url = FASTAPI_API_URL + f\"/items/{item_id}\"\n",
    "response = requests.get(api_url)\n",
    "\n",
    "if response.status_code == 200:\n",
    "\tresponse_dict = response.json()\n",
    "\tprint(response_dict[\"result\"])\n",
    "else:\n",
    "\tprint(response.status_code)\n",
    "\tprint(response.text)"
   ]
  },
  {
   "cell_type": "markdown",
   "metadata": {},
   "source": [
    "## POST /items"
   ]
  },
  {
   "cell_type": "code",
   "execution_count": 25,
   "metadata": {},
   "outputs": [
    {
     "name": "stdout",
     "output_type": "stream",
     "text": [
      "{'id': 9, 'name': 'Desk Chair', 'category': 'Furniture', 'price': 200.0}\n"
     ]
    }
   ],
   "source": [
    "# POST /items\n",
    "import requests \n",
    "\n",
    "api_url = FASTAPI_API_URL + \"/items\"\n",
    "data = {\n",
    "    \"name\": \"Desk Chair\",\n",
    "    \"category\": \"Furniture\",\n",
    "    \"price\": 200\n",
    "}\n",
    "response = requests.post(api_url, json=data)\n",
    "\n",
    "if response.status_code == 200:\n",
    "\tresponse_dict = response.json()\n",
    "\tprint(response_dict[\"result\"])\n",
    "else:\n",
    "\tprint(response.status_code)\n",
    "\tprint(response.text)"
   ]
  },
  {
   "cell_type": "code",
   "execution_count": 26,
   "metadata": {},
   "outputs": [
    {
     "name": "stdout",
     "output_type": "stream",
     "text": [
      "{'id': 10, 'name': 'Desk Chair', 'category': 'Furniture', 'price': 200.0}\n"
     ]
    }
   ],
   "source": [
    "# POST /items\n",
    "import requests \n",
    "\n",
    "api_url = FASTAPI_API_URL + \"/items\"\n",
    "data = {\n",
    "    \"name\": \"Desk Chair\",\n",
    "    \"category\": \"Furniture\",\n",
    "    \"price\": 200,\n",
    "\t\"quantity\": 10\n",
    "}\n",
    "response = requests.post(api_url, json=data)\n",
    "\n",
    "if response.status_code == 200:\n",
    "\tresponse_dict = response.json()\n",
    "\tprint(response_dict[\"result\"])\n",
    "else:\n",
    "\tprint(response.status_code)\n",
    "\tprint(response.text)"
   ]
  },
  {
   "cell_type": "markdown",
   "metadata": {},
   "source": [
    "## POST /images/binary"
   ]
  },
  {
   "cell_type": "code",
   "execution_count": 27,
   "metadata": {},
   "outputs": [
    {
     "name": "stdout",
     "output_type": "stream",
     "text": [
      "{'status': 'success', 'file_name': '20250313-083121', 'file_size': 9593}\n"
     ]
    }
   ],
   "source": [
    "import requests \n",
    "\n",
    "api_url = FASTAPI_API_URL + \"/images/binary\"\n",
    "\n",
    "file_path = \"강아지.jpeg\"\n",
    "with open(file_path, \"rb\") as f:\n",
    "    file_data = f.read()\n",
    "\n",
    "files = {\"file\": file_data}\n",
    "response = requests.post(api_url, files=files)\n",
    "\n",
    "if response.status_code == 200:\n",
    "\tresponse_dict = response.json()\n",
    "\tprint(response_dict)\n",
    "else:\n",
    "\tprint(response.status_code)\n",
    "\tprint(response.text)"
   ]
  },
  {
   "cell_type": "markdown",
   "metadata": {},
   "source": [
    "## POST /images/file"
   ]
  },
  {
   "cell_type": "code",
   "execution_count": 28,
   "metadata": {},
   "outputs": [
    {
     "name": "stdout",
     "output_type": "stream",
     "text": [
      "{'status': 'success', 'file_name': '20250313-083121-dog_test.jpg', 'file_size': 9593}\n"
     ]
    }
   ],
   "source": [
    "import requests \n",
    "\n",
    "api_url = FASTAPI_API_URL + \"/images/file\"\n",
    "\n",
    "file_path = \"강아지.jpeg\"\n",
    "with open(file_path, \"rb\") as f:\n",
    "    files = {\"file\": (\"dog_test.jpg\", f, \"image/jpeg\")}\n",
    "    response = requests.post(api_url, files=files)\n",
    "\n",
    "if response.status_code == 200:\n",
    "\tresponse_dict = response.json()\n",
    "\tprint(response_dict)\n",
    "else:\n",
    "\tprint(response.status_code)\n",
    "\tprint(response.text)"
   ]
  },
  {
   "cell_type": "code",
   "execution_count": 29,
   "metadata": {},
   "outputs": [
    {
     "data": {
      "text/plain": [
       "[{'id': 1, 'name': 'Laptop', 'category': 'Electronics', 'price': 1500},\n",
       " {'id': 2, 'name': 'Smartphone', 'category': 'Electronics', 'price': 800}]"
      ]
     },
     "execution_count": 29,
     "metadata": {},
     "output_type": "execute_result"
    }
   ],
   "source": [
    "# sample.json\n",
    "[\n",
    "    {\n",
    "        \"id\": 1,\n",
    "        \"name\": \"Laptop\",\n",
    "        \"category\": \"Electronics\",\n",
    "        \"price\": 1500\n",
    "    },\n",
    "    {\n",
    "        \"id\": 2,\n",
    "        \"name\": \"Smartphone\",\n",
    "        \"category\": \"Electronics\",\n",
    "        \"price\": 800\n",
    "    }\n",
    "]"
   ]
  },
  {
   "cell_type": "markdown",
   "metadata": {},
   "source": [
    "## GET /items/all"
   ]
  },
  {
   "cell_type": "code",
   "execution_count": 30,
   "metadata": {},
   "outputs": [],
   "source": [
    "FASTAPI_API_URL = \"http://localhost:8001\""
   ]
  },
  {
   "cell_type": "code",
   "execution_count": 31,
   "metadata": {},
   "outputs": [
    {
     "name": "stdout",
     "output_type": "stream",
     "text": [
      "[{'id': 1, 'name': 'Laptop', 'category': 'Electronics', 'price': 1500}, {'id': 2, 'name': 'Smartphone', 'category': 'Electronics', 'price': 800}, {'id': 3, 'name': 'Desk Chair', 'category': 'Furniture', 'price': 200.0}, {'id': 4, 'name': 'Desk Chair', 'category': 'Furniture', 'price': 200.0}]\n"
     ]
    }
   ],
   "source": [
    "# GET /items\n",
    "import requests \n",
    "\n",
    "api_url = FASTAPI_API_URL + \"/items/all\"\n",
    "response = requests.get(api_url)\n",
    "\n",
    "if response.status_code == 200:\n",
    "\tresponse_dict = response.json()\n",
    "\tprint(response_dict[\"result\"])"
   ]
  },
  {
   "cell_type": "markdown",
   "metadata": {},
   "source": [
    "## GET /query?category={category}"
   ]
  },
  {
   "cell_type": "code",
   "execution_count": 32,
   "metadata": {},
   "outputs": [
    {
     "name": "stdout",
     "output_type": "stream",
     "text": [
      "{'status': 'success', 'count': 2, 'result': [{'id': 1, 'name': 'Laptop', 'category': 'Electronics', 'price': 1500}, {'id': 2, 'name': 'Smartphone', 'category': 'Electronics', 'price': 800}]}\n"
     ]
    }
   ],
   "source": [
    "# GET /items\n",
    "import requests \n",
    "\n",
    "category = \"Electronics\"\n",
    "api_url = FASTAPI_API_URL + \"/items/query\"\n",
    "params = {\"category\": category}\n",
    "response = requests.get(api_url, params=params)\n",
    "\n",
    "if response.status_code == 200:\n",
    "\tresponse_dict = response.json()\n",
    "\tprint(response_dict)\n",
    "else:\n",
    "\tprint(response.status_code)\n",
    "\tprint(response.text)"
   ]
  },
  {
   "cell_type": "markdown",
   "metadata": {},
   "source": [
    "## GET /items/{item_id}"
   ]
  },
  {
   "cell_type": "code",
   "execution_count": 33,
   "metadata": {},
   "outputs": [
    {
     "name": "stdout",
     "output_type": "stream",
     "text": [
      "404\n",
      "{\"detail\":\"item_id에 해당하는 데이터가 없습니다.\"}\n"
     ]
    }
   ],
   "source": [
    "# GET /items/{item_id}\n",
    "import requests \n",
    "\n",
    "item_id = 10\n",
    "api_url = FASTAPI_API_URL + f\"/items/{item_id}\"\n",
    "response = requests.get(api_url)\n",
    "\n",
    "if response.status_code == 200:\n",
    "\tresponse_dict = response.json()\n",
    "\tprint(response_dict[\"result\"])\n",
    "else:\n",
    "\tprint(response.status_code)\n",
    "\tprint(response.text)"
   ]
  },
  {
   "cell_type": "markdown",
   "metadata": {},
   "source": [
    "## POST /items"
   ]
  },
  {
   "cell_type": "code",
   "execution_count": 34,
   "metadata": {},
   "outputs": [
    {
     "name": "stdout",
     "output_type": "stream",
     "text": [
      "{'id': 5, 'name': 'Desk Chair', 'category': 'Furniture', 'price': 200.0}\n"
     ]
    }
   ],
   "source": [
    "# POST /items\n",
    "import requests \n",
    "\n",
    "api_url = FASTAPI_API_URL + \"/items\"\n",
    "data = {\n",
    "    \"name\": \"Desk Chair\",\n",
    "    \"category\": \"Furniture\",\n",
    "    \"price\": 200\n",
    "}\n",
    "response = requests.post(api_url, json=data)\n",
    "\n",
    "if response.status_code == 200:\n",
    "\tresponse_dict = response.json()\n",
    "\tprint(response_dict[\"result\"])\n",
    "else:\n",
    "\tprint(response.status_code)\n",
    "\tprint(response.text)"
   ]
  },
  {
   "cell_type": "code",
   "execution_count": 35,
   "metadata": {},
   "outputs": [
    {
     "name": "stdout",
     "output_type": "stream",
     "text": [
      "{'id': 6, 'name': 'Desk Chair', 'category': 'Furniture', 'price': 200.0}\n"
     ]
    }
   ],
   "source": [
    "# POST /items\n",
    "import requests \n",
    "\n",
    "api_url = FASTAPI_API_URL + \"/items\"\n",
    "data = {\n",
    "    \"name\": \"Desk Chair\",\n",
    "    \"category\": \"Furniture\",\n",
    "    \"price\": 200,\n",
    "\t\"quantity\": 10\n",
    "}\n",
    "response = requests.post(api_url, json=data)\n",
    "\n",
    "if response.status_code == 200:\n",
    "\tresponse_dict = response.json()\n",
    "\tprint(response_dict[\"result\"])\n",
    "else:\n",
    "\tprint(response.status_code)\n",
    "\tprint(response.text)"
   ]
  },
  {
   "cell_type": "markdown",
   "metadata": {},
   "source": [
    "## POST /images/binary"
   ]
  },
  {
   "cell_type": "code",
   "execution_count": 36,
   "metadata": {},
   "outputs": [
    {
     "name": "stdout",
     "output_type": "stream",
     "text": [
      "{'status': 'success', 'file_name': '20250313-083121', 'file_size': 9593}\n"
     ]
    }
   ],
   "source": [
    "import requests \n",
    "\n",
    "api_url = FASTAPI_API_URL + \"/images/binary\"\n",
    "\n",
    "file_path = \"강아지.jpeg\"\n",
    "with open(file_path, \"rb\") as f:\n",
    "    file_data = f.read()\n",
    "\n",
    "files = {\"file\": file_data}\n",
    "response = requests.post(api_url, files=files)\n",
    "\n",
    "if response.status_code == 200:\n",
    "\tresponse_dict = response.json()\n",
    "\tprint(response_dict)\n",
    "else:\n",
    "\tprint(response.status_code)\n",
    "\tprint(response.text)"
   ]
  },
  {
   "cell_type": "markdown",
   "metadata": {},
   "source": [
    "## POST /images/file"
   ]
  },
  {
   "cell_type": "code",
   "execution_count": 37,
   "metadata": {},
   "outputs": [
    {
     "name": "stdout",
     "output_type": "stream",
     "text": [
      "{'status': 'success', 'file_name': '20250313-083121-dog_test.jpg', 'file_size': 9593}\n"
     ]
    }
   ],
   "source": [
    "import requests \n",
    "\n",
    "api_url = FASTAPI_API_URL + \"/images/file\"\n",
    "\n",
    "file_path = \"강아지.jpeg\"\n",
    "with open(file_path, \"rb\") as f:\n",
    "    files = {\"file\": (\"dog_test.jpg\", f, \"image/jpeg\")}\n",
    "    response = requests.post(api_url, files=files)\n",
    "\n",
    "if response.status_code == 200:\n",
    "\tresponse_dict = response.json()\n",
    "\tprint(response_dict)\n",
    "else:\n",
    "\tprint(response.status_code)\n",
    "\tprint(response.text)"
   ]
  },
  {
   "cell_type": "markdown",
   "metadata": {},
   "source": [
    "# Basic2"
   ]
  },
  {
   "cell_type": "code",
   "execution_count": 38,
   "metadata": {},
   "outputs": [
    {
     "data": {
      "text/plain": [
       "[{'id': 1, 'name': 'Laptop', 'category': 'Electronics', 'price': 1500},\n",
       " {'id': 2, 'name': 'Smartphone', 'category': 'Electronics', 'price': 800}]"
      ]
     },
     "execution_count": 38,
     "metadata": {},
     "output_type": "execute_result"
    }
   ],
   "source": [
    "# sample.json\n",
    "[\n",
    "    {\n",
    "        \"id\": 1,\n",
    "        \"name\": \"Laptop\",\n",
    "        \"category\": \"Electronics\",\n",
    "        \"price\": 1500\n",
    "    },\n",
    "    {\n",
    "        \"id\": 2,\n",
    "        \"name\": \"Smartphone\",\n",
    "        \"category\": \"Electronics\",\n",
    "        \"price\": 800\n",
    "    }\n",
    "]"
   ]
  },
  {
   "cell_type": "code",
   "execution_count": 39,
   "metadata": {},
   "outputs": [],
   "source": [
    "FASTAPI_API_URL = \"http://localhost:8001\""
   ]
  },
  {
   "cell_type": "markdown",
   "metadata": {},
   "source": [
    "## GET /items/all"
   ]
  },
  {
   "cell_type": "code",
   "execution_count": 40,
   "metadata": {},
   "outputs": [
    {
     "name": "stdout",
     "output_type": "stream",
     "text": [
      "[{'id': 1, 'name': 'Laptop', 'category': 'Electronics', 'price': 1500}, {'id': 2, 'name': 'Smartphone', 'category': 'Electronics', 'price': 800}, {'id': 3, 'name': 'Desk Chair', 'category': 'Furniture', 'price': 200.0}, {'id': 4, 'name': 'Desk Chair', 'category': 'Furniture', 'price': 200.0}, {'id': 5, 'name': 'Desk Chair', 'category': 'Furniture', 'price': 200.0}, {'id': 6, 'name': 'Desk Chair', 'category': 'Furniture', 'price': 200.0}]\n"
     ]
    }
   ],
   "source": [
    "# GET /items\n",
    "import requests \n",
    "\n",
    "api_url = FASTAPI_API_URL + \"/items/all\"\n",
    "response = requests.get(api_url)\n",
    "\n",
    "if response.status_code == 200:\n",
    "\tresponse_dict = response.json()\n",
    "\tprint(response_dict[\"result\"])"
   ]
  },
  {
   "cell_type": "markdown",
   "metadata": {},
   "source": [
    "## GET /query?category={category}"
   ]
  },
  {
   "cell_type": "code",
   "execution_count": 41,
   "metadata": {},
   "outputs": [
    {
     "name": "stdout",
     "output_type": "stream",
     "text": [
      "{'status': 'success', 'count': 2, 'result': [{'id': 1, 'name': 'Laptop', 'category': 'Electronics', 'price': 1500}, {'id': 2, 'name': 'Smartphone', 'category': 'Electronics', 'price': 800}]}\n"
     ]
    }
   ],
   "source": [
    "# GET /items\n",
    "import requests \n",
    "\n",
    "category = \"Electronics\"\n",
    "api_url = FASTAPI_API_URL + \"/items/query\"\n",
    "params = {\"category\": category}\n",
    "response = requests.get(api_url, params=params)\n",
    "\n",
    "if response.status_code == 200:\n",
    "\tresponse_dict = response.json()\n",
    "\tprint(response_dict)\n",
    "else:\n",
    "\tprint(response.status_code)\n",
    "\tprint(response.text)"
   ]
  },
  {
   "cell_type": "markdown",
   "metadata": {},
   "source": [
    "## GET /items/{item_id}"
   ]
  },
  {
   "cell_type": "code",
   "execution_count": 42,
   "metadata": {},
   "outputs": [
    {
     "name": "stdout",
     "output_type": "stream",
     "text": [
      "404\n",
      "{\"detail\":\"item_id에 해당하는 데이터가 없습니다.\"}\n"
     ]
    }
   ],
   "source": [
    "# GET /items/{item_id}\n",
    "import requests \n",
    "\n",
    "item_id = 10\n",
    "api_url = FASTAPI_API_URL + f\"/items/{item_id}\"\n",
    "response = requests.get(api_url)\n",
    "\n",
    "if response.status_code == 200:\n",
    "\tresponse_dict = response.json()\n",
    "\tprint(response_dict[\"result\"])\n",
    "else:\n",
    "\tprint(response.status_code)\n",
    "\tprint(response.text)"
   ]
  },
  {
   "cell_type": "markdown",
   "metadata": {},
   "source": [
    "## POST /items"
   ]
  },
  {
   "cell_type": "code",
   "execution_count": 43,
   "metadata": {},
   "outputs": [
    {
     "name": "stdout",
     "output_type": "stream",
     "text": [
      "{'id': 7, 'name': 'Desk Chair', 'category': 'Furniture', 'price': 200.0}\n"
     ]
    }
   ],
   "source": [
    "# POST /items\n",
    "import requests \n",
    "\n",
    "api_url = FASTAPI_API_URL + \"/items\"\n",
    "data = {\n",
    "    \"name\": \"Desk Chair\",\n",
    "    \"category\": \"Furniture\",\n",
    "    \"price\": 200\n",
    "}\n",
    "response = requests.post(api_url, json=data)\n",
    "\n",
    "if response.status_code == 200:\n",
    "\tresponse_dict = response.json()\n",
    "\tprint(response_dict[\"result\"])\n",
    "else:\n",
    "\tprint(response.status_code)\n",
    "\tprint(response.text)"
   ]
  },
  {
   "cell_type": "code",
   "execution_count": 44,
   "metadata": {},
   "outputs": [
    {
     "name": "stdout",
     "output_type": "stream",
     "text": [
      "{'id': 8, 'name': 'Desk Chair', 'category': 'Furniture', 'price': 200.0}\n"
     ]
    }
   ],
   "source": [
    "# POST /items\n",
    "import requests \n",
    "\n",
    "api_url = FASTAPI_API_URL + \"/items\"\n",
    "data = {\n",
    "    \"name\": \"Desk Chair\",\n",
    "    \"category\": \"Furniture\",\n",
    "    \"price\": 200,\n",
    "\t\"quantity\": 10\n",
    "}\n",
    "response = requests.post(api_url, json=data)\n",
    "\n",
    "if response.status_code == 200:\n",
    "\tresponse_dict = response.json()\n",
    "\tprint(response_dict[\"result\"])\n",
    "else:\n",
    "\tprint(response.status_code)\n",
    "\tprint(response.text)"
   ]
  },
  {
   "cell_type": "markdown",
   "metadata": {},
   "source": [
    "## POST /images/binary"
   ]
  },
  {
   "cell_type": "code",
   "execution_count": 45,
   "metadata": {},
   "outputs": [
    {
     "name": "stdout",
     "output_type": "stream",
     "text": [
      "{'status': 'success', 'file_name': '20250313-083121', 'file_size': 9593}\n"
     ]
    }
   ],
   "source": [
    "import requests \n",
    "\n",
    "api_url = FASTAPI_API_URL + \"/images/binary\"\n",
    "\n",
    "file_path = \"강아지.jpeg\"\n",
    "with open(file_path, \"rb\") as f:\n",
    "    file_data = f.read()\n",
    "\n",
    "files = {\"file\": file_data}\n",
    "response = requests.post(api_url, files=files)\n",
    "\n",
    "if response.status_code == 200:\n",
    "\tresponse_dict = response.json()\n",
    "\tprint(response_dict)\n",
    "else:\n",
    "\tprint(response.status_code)\n",
    "\tprint(response.text)"
   ]
  },
  {
   "cell_type": "markdown",
   "metadata": {},
   "source": [
    "## POST /images/file"
   ]
  },
  {
   "cell_type": "code",
   "execution_count": 46,
   "metadata": {},
   "outputs": [
    {
     "name": "stdout",
     "output_type": "stream",
     "text": [
      "{'status': 'success', 'file_name': '20250313-083121-dog_test.jpg', 'file_size': 9593}\n"
     ]
    }
   ],
   "source": [
    "import requests \n",
    "\n",
    "api_url = FASTAPI_API_URL + \"/images/file\"\n",
    "\n",
    "file_path = \"강아지.jpeg\"\n",
    "with open(file_path, \"rb\") as f:\n",
    "    files = {\"file\": (\"dog_test.jpg\", f, \"image/jpeg\")}\n",
    "    response = requests.post(api_url, files=files)\n",
    "\n",
    "if response.status_code == 200:\n",
    "\tresponse_dict = response.json()\n",
    "\tprint(response_dict)\n",
    "else:\n",
    "\tprint(response.status_code)\n",
    "\tprint(response.text)"
   ]
  },
  {
   "cell_type": "code",
   "execution_count": 47,
   "metadata": {},
   "outputs": [
    {
     "data": {
      "text/plain": [
       "[{'id': 1, 'name': 'Laptop', 'category': 'Electronics', 'price': 1500},\n",
       " {'id': 2, 'name': 'Smartphone', 'category': 'Electronics', 'price': 800}]"
      ]
     },
     "execution_count": 47,
     "metadata": {},
     "output_type": "execute_result"
    }
   ],
   "source": [
    "# sample.json\n",
    "[\n",
    "    {\n",
    "        \"id\": 1,\n",
    "        \"name\": \"Laptop\",\n",
    "        \"category\": \"Electronics\",\n",
    "        \"price\": 1500\n",
    "    },\n",
    "    {\n",
    "        \"id\": 2,\n",
    "        \"name\": \"Smartphone\",\n",
    "        \"category\": \"Electronics\",\n",
    "        \"price\": 800\n",
    "    }\n",
    "]"
   ]
  },
  {
   "cell_type": "markdown",
   "metadata": {},
   "source": [
    "## GET /items/all"
   ]
  },
  {
   "cell_type": "code",
   "execution_count": 48,
   "metadata": {},
   "outputs": [],
   "source": [
    "FASTAPI_API_URL = \"http://localhost:8001\""
   ]
  },
  {
   "cell_type": "code",
   "execution_count": 49,
   "metadata": {},
   "outputs": [
    {
     "name": "stdout",
     "output_type": "stream",
     "text": [
      "[{'id': 1, 'name': 'Laptop', 'category': 'Electronics', 'price': 1500}, {'id': 2, 'name': 'Smartphone', 'category': 'Electronics', 'price': 800}, {'id': 3, 'name': 'Desk Chair', 'category': 'Furniture', 'price': 200.0}, {'id': 4, 'name': 'Desk Chair', 'category': 'Furniture', 'price': 200.0}, {'id': 5, 'name': 'Desk Chair', 'category': 'Furniture', 'price': 200.0}, {'id': 6, 'name': 'Desk Chair', 'category': 'Furniture', 'price': 200.0}, {'id': 7, 'name': 'Desk Chair', 'category': 'Furniture', 'price': 200.0}, {'id': 8, 'name': 'Desk Chair', 'category': 'Furniture', 'price': 200.0}]\n"
     ]
    }
   ],
   "source": [
    "# GET /items\n",
    "import requests \n",
    "\n",
    "api_url = FASTAPI_API_URL + \"/items/all\"\n",
    "response = requests.get(api_url)\n",
    "\n",
    "if response.status_code == 200:\n",
    "\tresponse_dict = response.json()\n",
    "\tprint(response_dict[\"result\"])"
   ]
  },
  {
   "cell_type": "markdown",
   "metadata": {},
   "source": [
    "## GET /query?category={category}"
   ]
  },
  {
   "cell_type": "code",
   "execution_count": 50,
   "metadata": {},
   "outputs": [
    {
     "name": "stdout",
     "output_type": "stream",
     "text": [
      "{'status': 'success', 'count': 2, 'result': [{'id': 1, 'name': 'Laptop', 'category': 'Electronics', 'price': 1500}, {'id': 2, 'name': 'Smartphone', 'category': 'Electronics', 'price': 800}]}\n"
     ]
    }
   ],
   "source": [
    "# GET /items\n",
    "import requests \n",
    "\n",
    "category = \"Electronics\"\n",
    "api_url = FASTAPI_API_URL + \"/items/query\"\n",
    "params = {\"category\": category}\n",
    "response = requests.get(api_url, params=params)\n",
    "\n",
    "if response.status_code == 200:\n",
    "\tresponse_dict = response.json()\n",
    "\tprint(response_dict)\n",
    "else:\n",
    "\tprint(response.status_code)\n",
    "\tprint(response.text)"
   ]
  },
  {
   "cell_type": "markdown",
   "metadata": {},
   "source": [
    "## GET /items/{item_id}"
   ]
  },
  {
   "cell_type": "code",
   "execution_count": 51,
   "metadata": {},
   "outputs": [
    {
     "name": "stdout",
     "output_type": "stream",
     "text": [
      "404\n",
      "{\"detail\":\"item_id에 해당하는 데이터가 없습니다.\"}\n"
     ]
    }
   ],
   "source": [
    "# GET /items/{item_id}\n",
    "import requests \n",
    "\n",
    "item_id = 10\n",
    "api_url = FASTAPI_API_URL + f\"/items/{item_id}\"\n",
    "response = requests.get(api_url)\n",
    "\n",
    "if response.status_code == 200:\n",
    "\tresponse_dict = response.json()\n",
    "\tprint(response_dict[\"result\"])\n",
    "else:\n",
    "\tprint(response.status_code)\n",
    "\tprint(response.text)"
   ]
  },
  {
   "cell_type": "markdown",
   "metadata": {},
   "source": [
    "## POST /items"
   ]
  },
  {
   "cell_type": "code",
   "execution_count": 52,
   "metadata": {},
   "outputs": [
    {
     "name": "stdout",
     "output_type": "stream",
     "text": [
      "{'id': 9, 'name': 'Desk Chair', 'category': 'Furniture', 'price': 200.0}\n"
     ]
    }
   ],
   "source": [
    "# POST /items\n",
    "import requests \n",
    "\n",
    "api_url = FASTAPI_API_URL + \"/items\"\n",
    "data = {\n",
    "    \"name\": \"Desk Chair\",\n",
    "    \"category\": \"Furniture\",\n",
    "    \"price\": 200\n",
    "}\n",
    "response = requests.post(api_url, json=data)\n",
    "\n",
    "if response.status_code == 200:\n",
    "\tresponse_dict = response.json()\n",
    "\tprint(response_dict[\"result\"])\n",
    "else:\n",
    "\tprint(response.status_code)\n",
    "\tprint(response.text)"
   ]
  },
  {
   "cell_type": "code",
   "execution_count": 53,
   "metadata": {},
   "outputs": [
    {
     "name": "stdout",
     "output_type": "stream",
     "text": [
      "{'id': 10, 'name': 'Desk Chair', 'category': 'Furniture', 'price': 200.0}\n"
     ]
    }
   ],
   "source": [
    "# POST /items\n",
    "import requests \n",
    "\n",
    "api_url = FASTAPI_API_URL + \"/items\"\n",
    "data = {\n",
    "    \"name\": \"Desk Chair\",\n",
    "    \"category\": \"Furniture\",\n",
    "    \"price\": 200,\n",
    "\t\"quantity\": 10\n",
    "}\n",
    "response = requests.post(api_url, json=data)\n",
    "\n",
    "if response.status_code == 200:\n",
    "\tresponse_dict = response.json()\n",
    "\tprint(response_dict[\"result\"])\n",
    "else:\n",
    "\tprint(response.status_code)\n",
    "\tprint(response.text)"
   ]
  },
  {
   "cell_type": "markdown",
   "metadata": {},
   "source": [
    "## POST /images/binary"
   ]
  },
  {
   "cell_type": "code",
   "execution_count": 54,
   "metadata": {},
   "outputs": [
    {
     "name": "stdout",
     "output_type": "stream",
     "text": [
      "{'status': 'success', 'file_name': '20250313-083122', 'file_size': 9593}\n"
     ]
    }
   ],
   "source": [
    "import requests \n",
    "\n",
    "api_url = FASTAPI_API_URL + \"/images/binary\"\n",
    "\n",
    "file_path = \"강아지.jpeg\"\n",
    "with open(file_path, \"rb\") as f:\n",
    "    file_data = f.read()\n",
    "\n",
    "files = {\"file\": file_data}\n",
    "response = requests.post(api_url, files=files)\n",
    "\n",
    "if response.status_code == 200:\n",
    "\tresponse_dict = response.json()\n",
    "\tprint(response_dict)\n",
    "else:\n",
    "\tprint(response.status_code)\n",
    "\tprint(response.text)"
   ]
  },
  {
   "cell_type": "markdown",
   "metadata": {},
   "source": [
    "## POST /images/file"
   ]
  },
  {
   "cell_type": "code",
   "execution_count": 55,
   "metadata": {},
   "outputs": [
    {
     "name": "stdout",
     "output_type": "stream",
     "text": [
      "{'status': 'success', 'file_name': '20250313-083122-dog_test.jpg', 'file_size': 9593}\n"
     ]
    }
   ],
   "source": [
    "import requests \n",
    "\n",
    "api_url = FASTAPI_API_URL + \"/images/file\"\n",
    "\n",
    "file_path = \"강아지.jpeg\"\n",
    "with open(file_path, \"rb\") as f:\n",
    "    files = {\"file\": (\"dog_test.jpg\", f, \"image/jpeg\")}\n",
    "    response = requests.post(api_url, files=files)\n",
    "\n",
    "if response.status_code == 200:\n",
    "\tresponse_dict = response.json()\n",
    "\tprint(response_dict)\n",
    "else:\n",
    "\tprint(response.status_code)\n",
    "\tprint(response.text)"
   ]
  },
  {
   "cell_type": "markdown",
   "metadata": {},
   "source": [
    "# Websock"
   ]
  },
  {
   "cell_type": "code",
   "execution_count": 6,
   "metadata": {},
   "outputs": [],
   "source": [
    "import nest_asyncio\n",
    "\n",
    "# Jupyter Notebook 환경에서 asyncio 사용 가능하도록 설정\n",
    "nest_asyncio.apply()"
   ]
  },
  {
   "cell_type": "markdown",
   "metadata": {},
   "source": [
    "## WebScoket - 일반"
   ]
  },
  {
   "cell_type": "code",
   "execution_count": 46,
   "metadata": {},
   "outputs": [
    {
     "name": "stdout",
     "output_type": "stream",
     "text": [
      "서버 응답: 안녕! 어떻게 지내? 도움이 필요한 게 있으면 언제든지 말해 줘!\n"
     ]
    }
   ],
   "source": [
    "import websockets\n",
    "import asyncio\n",
    "\n",
    "WEBSOCKET_API_URL = \"ws://127.0.0.1:8002/ws\"\n",
    "\n",
    "async def send_message(question):\n",
    "    async with websockets.connect(WEBSOCKET_API_URL) as websocket:\n",
    "        await websocket.send(question)  # 메시지 전송\n",
    "        response = await websocket.recv()  # 서버 응답 받기\n",
    "        return response\n",
    "\n",
    "# 이미 실행 중인 이벤트 루프에서 실행\n",
    "loop = asyncio.get_event_loop()\n",
    "response = loop.run_until_complete(send_message(question=\"안녕 친구야\"))\n",
    "\n",
    "print(\"서버 응답:\", response)"
   ]
  },
  {
   "cell_type": "markdown",
   "metadata": {},
   "source": [
    "## WebSocket - 스트리밍"
   ]
  },
  {
   "cell_type": "code",
   "execution_count": 74,
   "metadata": {},
   "outputs": [
    {
     "name": "stdout",
     "output_type": "stream",
     "text": [
      "안녕하세요! 저는 AI 언어 모델로, 다양한 질문에 답변하고 정보를 제공하는 데 도움을 드릴 수 있습니다. 대화, 학습, 문제 해결 등 여러 가지 주제에 대해 이야기할 수 있어요. 궁금한 점이 있으면 언제든지 물어보세요!\n",
      "서버 응답: 안녕하세요! 저는 AI 언어 모델로, 다양한 질문에 답변하고 정보를 제공하는 데 도움을 드릴 수 있습니다. 대화, 학습, 문제 해결 등 여러 가지 주제에 대해 이야기할 수 있어요. 궁금한 점이 있으면 언제든지 물어보세요!\n"
     ]
    }
   ],
   "source": [
    "import websockets\n",
    "import asyncio\n",
    "\n",
    "WEBSOCKET_API_URL = \"ws://127.0.0.1:8002/ws/streaming\"\n",
    "\n",
    "async def send_message(question):\n",
    "    async with websockets.connect(WEBSOCKET_API_URL) as websocket:\n",
    "        # 메시지 전송\n",
    "        await websocket.send(question) \n",
    "\n",
    "        # 서버 응답 받기\n",
    "        response = \"\"\n",
    "        while True:\n",
    "            token = await websocket.recv()  \n",
    "            if token == \"[END]\":\n",
    "                break\n",
    "            \n",
    "            response += token\n",
    "            for t in token:\n",
    "                print(t, end=\"\", flush=True)\n",
    "    \n",
    "        return response \n",
    "\n",
    "# 이미 실행 중인 이벤트 루프에서 실행\n",
    "loop = asyncio.get_event_loop()\n",
    "response = loop.run_until_complete(send_message(question=\"너를 소개해줘\"))\n",
    "print(\"\\n서버 응답:\", response)"
   ]
  }
 ],
 "metadata": {
  "kernelspec": {
   "display_name": "fastapi",
   "language": "python",
   "name": "python3"
  },
  "language_info": {
   "codemirror_mode": {
    "name": "ipython",
    "version": 3
   },
   "file_extension": ".py",
   "mimetype": "text/x-python",
   "name": "python",
   "nbconvert_exporter": "python",
   "pygments_lexer": "ipython3",
   "version": "3.11.11"
  }
 },
 "nbformat": 4,
 "nbformat_minor": 2
}
